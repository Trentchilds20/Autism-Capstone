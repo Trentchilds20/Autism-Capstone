{
 "cells": [
  {
   "cell_type": "code",
   "execution_count": 3,
   "id": "22f70197",
   "metadata": {},
   "outputs": [],
   "source": [
    "import seaborn as sns\n",
    "import pandas as pd\n",
    "import numpy as np\n",
    "import matplotlib.pyplot as plt"
   ]
  },
  {
   "cell_type": "markdown",
   "id": "6b00d57a",
   "metadata": {},
   "source": [
    "Import pandas and load data into variable"
   ]
  },
  {
   "cell_type": "code",
   "execution_count": 4,
   "id": "16ddb053",
   "metadata": {
    "scrolled": true
   },
   "outputs": [
    {
     "data": {
      "text/html": [
       "<div>\n",
       "<style scoped>\n",
       "    .dataframe tbody tr th:only-of-type {\n",
       "        vertical-align: middle;\n",
       "    }\n",
       "\n",
       "    .dataframe tbody tr th {\n",
       "        vertical-align: top;\n",
       "    }\n",
       "\n",
       "    .dataframe thead th {\n",
       "        text-align: right;\n",
       "    }\n",
       "</style>\n",
       "<table border=\"1\" class=\"dataframe\">\n",
       "  <thead>\n",
       "    <tr style=\"text-align: right;\">\n",
       "      <th></th>\n",
       "      <th>A1_Score</th>\n",
       "      <th>A2_Score</th>\n",
       "      <th>A3_Score</th>\n",
       "      <th>A4_Score</th>\n",
       "      <th>A5_Score</th>\n",
       "      <th>A6_Score</th>\n",
       "      <th>A7_Score</th>\n",
       "      <th>A8_Score</th>\n",
       "      <th>A9_Score</th>\n",
       "      <th>A10_Score</th>\n",
       "      <th>...</th>\n",
       "      <th>gender</th>\n",
       "      <th>ethnicity</th>\n",
       "      <th>jundice</th>\n",
       "      <th>austim</th>\n",
       "      <th>contry_of_res</th>\n",
       "      <th>used_app_before</th>\n",
       "      <th>result</th>\n",
       "      <th>age_desc</th>\n",
       "      <th>relation</th>\n",
       "      <th>Class/ASD</th>\n",
       "    </tr>\n",
       "  </thead>\n",
       "  <tbody>\n",
       "    <tr>\n",
       "      <th>0</th>\n",
       "      <td>1</td>\n",
       "      <td>1</td>\n",
       "      <td>1</td>\n",
       "      <td>1</td>\n",
       "      <td>0</td>\n",
       "      <td>0</td>\n",
       "      <td>1</td>\n",
       "      <td>1</td>\n",
       "      <td>0</td>\n",
       "      <td>0</td>\n",
       "      <td>...</td>\n",
       "      <td>f</td>\n",
       "      <td>White-European</td>\n",
       "      <td>no</td>\n",
       "      <td>no</td>\n",
       "      <td>United States'</td>\n",
       "      <td>no</td>\n",
       "      <td>6</td>\n",
       "      <td>18 and more'</td>\n",
       "      <td>Self</td>\n",
       "      <td>NO</td>\n",
       "    </tr>\n",
       "    <tr>\n",
       "      <th>1</th>\n",
       "      <td>1</td>\n",
       "      <td>1</td>\n",
       "      <td>0</td>\n",
       "      <td>1</td>\n",
       "      <td>0</td>\n",
       "      <td>0</td>\n",
       "      <td>0</td>\n",
       "      <td>1</td>\n",
       "      <td>0</td>\n",
       "      <td>1</td>\n",
       "      <td>...</td>\n",
       "      <td>m</td>\n",
       "      <td>Latino</td>\n",
       "      <td>no</td>\n",
       "      <td>yes</td>\n",
       "      <td>Brazil</td>\n",
       "      <td>no</td>\n",
       "      <td>5</td>\n",
       "      <td>18 and more'</td>\n",
       "      <td>Self</td>\n",
       "      <td>NO</td>\n",
       "    </tr>\n",
       "    <tr>\n",
       "      <th>2</th>\n",
       "      <td>1</td>\n",
       "      <td>1</td>\n",
       "      <td>0</td>\n",
       "      <td>1</td>\n",
       "      <td>1</td>\n",
       "      <td>0</td>\n",
       "      <td>1</td>\n",
       "      <td>1</td>\n",
       "      <td>1</td>\n",
       "      <td>1</td>\n",
       "      <td>...</td>\n",
       "      <td>m</td>\n",
       "      <td>Latino</td>\n",
       "      <td>yes</td>\n",
       "      <td>yes</td>\n",
       "      <td>Spain</td>\n",
       "      <td>no</td>\n",
       "      <td>8</td>\n",
       "      <td>18 and more'</td>\n",
       "      <td>Parent</td>\n",
       "      <td>YES</td>\n",
       "    </tr>\n",
       "    <tr>\n",
       "      <th>3</th>\n",
       "      <td>1</td>\n",
       "      <td>1</td>\n",
       "      <td>0</td>\n",
       "      <td>1</td>\n",
       "      <td>0</td>\n",
       "      <td>0</td>\n",
       "      <td>1</td>\n",
       "      <td>1</td>\n",
       "      <td>0</td>\n",
       "      <td>1</td>\n",
       "      <td>...</td>\n",
       "      <td>f</td>\n",
       "      <td>White-European</td>\n",
       "      <td>no</td>\n",
       "      <td>yes</td>\n",
       "      <td>United States'</td>\n",
       "      <td>no</td>\n",
       "      <td>6</td>\n",
       "      <td>18 and more'</td>\n",
       "      <td>Self</td>\n",
       "      <td>NO</td>\n",
       "    </tr>\n",
       "    <tr>\n",
       "      <th>4</th>\n",
       "      <td>1</td>\n",
       "      <td>0</td>\n",
       "      <td>0</td>\n",
       "      <td>0</td>\n",
       "      <td>0</td>\n",
       "      <td>0</td>\n",
       "      <td>0</td>\n",
       "      <td>1</td>\n",
       "      <td>0</td>\n",
       "      <td>0</td>\n",
       "      <td>...</td>\n",
       "      <td>f</td>\n",
       "      <td>?</td>\n",
       "      <td>no</td>\n",
       "      <td>no</td>\n",
       "      <td>Egypt</td>\n",
       "      <td>no</td>\n",
       "      <td>2</td>\n",
       "      <td>18 and more'</td>\n",
       "      <td>?</td>\n",
       "      <td>NO</td>\n",
       "    </tr>\n",
       "  </tbody>\n",
       "</table>\n",
       "<p>5 rows × 21 columns</p>\n",
       "</div>"
      ],
      "text/plain": [
       "   A1_Score  A2_Score  A3_Score  A4_Score  A5_Score  A6_Score  A7_Score  \\\n",
       "0         1         1         1         1         0         0         1   \n",
       "1         1         1         0         1         0         0         0   \n",
       "2         1         1         0         1         1         0         1   \n",
       "3         1         1         0         1         0         0         1   \n",
       "4         1         0         0         0         0         0         0   \n",
       "\n",
       "   A8_Score  A9_Score  A10_Score  ... gender       ethnicity jundice austim  \\\n",
       "0         1         0          0  ...      f  White-European      no     no   \n",
       "1         1         0          1  ...      m          Latino      no    yes   \n",
       "2         1         1          1  ...      m          Latino     yes    yes   \n",
       "3         1         0          1  ...      f  White-European      no    yes   \n",
       "4         1         0          0  ...      f               ?      no     no   \n",
       "\n",
       "    contry_of_res used_app_before result      age_desc relation Class/ASD  \n",
       "0  United States'              no      6  18 and more'     Self        NO  \n",
       "1          Brazil              no      5  18 and more'     Self        NO  \n",
       "2           Spain              no      8  18 and more'   Parent       YES  \n",
       "3  United States'              no      6  18 and more'     Self        NO  \n",
       "4           Egypt              no      2  18 and more'        ?        NO  \n",
       "\n",
       "[5 rows x 21 columns]"
      ]
     },
     "execution_count": 4,
     "metadata": {},
     "output_type": "execute_result"
    }
   ],
   "source": [
    "autism = pd.read_csv('Autism.csv')\n",
    "autism.head()"
   ]
  },
  {
   "cell_type": "markdown",
   "id": "24933cb9",
   "metadata": {},
   "source": [
    "Let's rename the columns to make them more clear"
   ]
  },
  {
   "cell_type": "code",
   "execution_count": 5,
   "id": "5c0d63c5",
   "metadata": {},
   "outputs": [
    {
     "data": {
      "text/plain": [
       "Index(['A1', 'A2', 'A3', 'A4', 'A5', 'A6', 'A7', 'A8', 'A9', 'A10', 'age',\n",
       "       'gender', 'ethnicity', 'Jundice_at_birth', 'Autistic_relative',\n",
       "       'contry_of_res', 'used_app_before', 'Full_score', 'age_desc',\n",
       "       'relation', 'ASD'],\n",
       "      dtype='object')"
      ]
     },
     "execution_count": 5,
     "metadata": {},
     "output_type": "execute_result"
    }
   ],
   "source": [
    "\n",
    "autism.rename(columns={'A1_Score':'A1','A2_Score':'A2','A3_Score':'A3','A4_Score':'A4',\n",
    "                                        'A5_Score':'A5','A6_Score':'A6','A7_Score':'A7','A8_Score':'A8','A9_Score':'A9',\n",
    "                                       'A10_Score':'A10','jundice':'Jundice_at_birth','austim':'Autistic_relative','result':'Full_score',\n",
    "                                        'Class/ASD':'ASD'}, inplace=True)\n",
    "autism.columns"
   ]
  },
  {
   "cell_type": "code",
   "execution_count": 6,
   "id": "f841ac63",
   "metadata": {},
   "outputs": [
    {
     "data": {
      "text/plain": [
       "A1                   0\n",
       "A2                   0\n",
       "A3                   0\n",
       "A4                   0\n",
       "A5                   0\n",
       "A6                   0\n",
       "A7                   0\n",
       "A8                   0\n",
       "A9                   0\n",
       "A10                  0\n",
       "age                  0\n",
       "gender               0\n",
       "ethnicity            0\n",
       "Jundice_at_birth     0\n",
       "Autistic_relative    0\n",
       "contry_of_res        0\n",
       "used_app_before      0\n",
       "Full_score           0\n",
       "age_desc             0\n",
       "relation             0\n",
       "ASD                  0\n",
       "dtype: int64"
      ]
     },
     "execution_count": 6,
     "metadata": {},
     "output_type": "execute_result"
    }
   ],
   "source": [
    "autism.isna().sum()"
   ]
  },
  {
   "cell_type": "markdown",
   "id": "83e0ed19",
   "metadata": {},
   "source": [
    "It looks like all the missing values aren't coded as missing in the NaN format"
   ]
  },
  {
   "cell_type": "code",
   "execution_count": 7,
   "id": "092beb9c",
   "metadata": {},
   "outputs": [
    {
     "data": {
      "text/plain": [
       "White-European      233\n",
       "Asian               123\n",
       "?                    95\n",
       "Middle Eastern '     92\n",
       "Black                43\n",
       "South Asian'         36\n",
       "Others               30\n",
       "Latino               20\n",
       "Hispanic             13\n",
       "Pasifika             12\n",
       "Turkish               6\n",
       "others                1\n",
       "Name: ethnicity, dtype: int64"
      ]
     },
     "execution_count": 7,
     "metadata": {},
     "output_type": "execute_result"
    }
   ],
   "source": [
    "autism['ethnicity'].value_counts()\n"
   ]
  },
  {
   "cell_type": "markdown",
   "id": "fa80e7ec",
   "metadata": {},
   "source": [
    "In this column the missing ethnicities are coded as '?'. I'm not sure yet if we should leave these as they are or convert them into a NaN. "
   ]
  },
  {
   "cell_type": "code",
   "execution_count": 8,
   "id": "d8aad671",
   "metadata": {},
   "outputs": [
    {
     "data": {
      "text/plain": [
       "United States'           113\n",
       "United Arab Emirates'     82\n",
       "New Zealand'              81\n",
       "India                     81\n",
       "United Kingdom'           77\n",
       "                        ... \n",
       "China                      1\n",
       "Chile                      1\n",
       "Lebanon                    1\n",
       "Burundi                    1\n",
       "Cyprus                     1\n",
       "Name: contry_of_res, Length: 67, dtype: int64"
      ]
     },
     "execution_count": 8,
     "metadata": {},
     "output_type": "execute_result"
    }
   ],
   "source": [
    "autism['contry_of_res'].value_counts()"
   ]
  },
  {
   "cell_type": "code",
   "execution_count": 9,
   "id": "89e6e552",
   "metadata": {},
   "outputs": [
    {
     "data": {
      "text/plain": [
       "contry_of_res   ASD\n",
       "Afghanistan     NO     11\n",
       "                YES     2\n",
       "AmericanSamoa   NO      1\n",
       "                YES     1\n",
       "Angola          NO      1\n",
       "                       ..\n",
       "United States'  NO     60\n",
       "                YES    53\n",
       "Uruguay         YES     1\n",
       "Viet Nam'       NO      4\n",
       "                YES     1\n",
       "Name: ASD, Length: 96, dtype: int64"
      ]
     },
     "execution_count": 9,
     "metadata": {},
     "output_type": "execute_result"
    }
   ],
   "source": [
    "autism.groupby('contry_of_res')['ASD'].value_counts()\n"
   ]
  },
  {
   "cell_type": "code",
   "execution_count": 10,
   "id": "1e941a6f",
   "metadata": {},
   "outputs": [
    {
     "data": {
      "text/plain": [
       "no     692\n",
       "yes     12\n",
       "Name: used_app_before, dtype: int64"
      ]
     },
     "execution_count": 10,
     "metadata": {},
     "output_type": "execute_result"
    }
   ],
   "source": [
    "autism['used_app_before'].value_counts()"
   ]
  },
  {
   "cell_type": "code",
   "execution_count": 11,
   "id": "0c50f98f",
   "metadata": {},
   "outputs": [
    {
     "name": "stdout",
     "output_type": "stream",
     "text": [
      "All passed\n",
      "704\n"
     ]
    }
   ],
   "source": [
    "count = 0\n",
    "for i in range(len(autism['ASD'])):\n",
    "    \n",
    "    if autism.iloc[i][0:10].sum() == autism.loc[i]['Full_score']:\n",
    "        count += 1\n",
    "\n",
    "if count == len(autism['ASD']):\n",
    "    print('All passed')\n",
    "else:\n",
    "    print(\"There's errors\")\n",
    "print(count)"
   ]
  },
  {
   "cell_type": "code",
   "execution_count": null,
   "id": "f5bd694e",
   "metadata": {},
   "outputs": [],
   "source": []
  },
  {
   "cell_type": "markdown",
   "id": "c1f0af35",
   "metadata": {},
   "source": [
    "The cell above is to make sure all of the scores for the individual questions add up to the full score column in which they do in this case. "
   ]
  },
  {
   "cell_type": "code",
   "execution_count": 12,
   "id": "64e44c13",
   "metadata": {},
   "outputs": [
    {
     "data": {
      "text/plain": [
       "18 and more'    704\n",
       "Name: age_desc, dtype: int64"
      ]
     },
     "execution_count": 12,
     "metadata": {},
     "output_type": "execute_result"
    }
   ],
   "source": [
    "autism['age_desc'].value_counts()"
   ]
  },
  {
   "cell_type": "code",
   "execution_count": 13,
   "id": "52529385",
   "metadata": {},
   "outputs": [],
   "source": [
    "autism = autism.drop(['age_desc'], axis=1)"
   ]
  },
  {
   "cell_type": "markdown",
   "id": "8277ac1a",
   "metadata": {},
   "source": [
    "Everyone was over the age of 18 so we won't need this column. "
   ]
  },
  {
   "cell_type": "code",
   "execution_count": 14,
   "id": "1ef4e660",
   "metadata": {},
   "outputs": [
    {
     "data": {
      "text/plain": [
       "NO     515\n",
       "YES    189\n",
       "Name: ASD, dtype: int64"
      ]
     },
     "execution_count": 14,
     "metadata": {},
     "output_type": "execute_result"
    }
   ],
   "source": [
    "autism['ASD'].value_counts()"
   ]
  },
  {
   "cell_type": "code",
   "execution_count": 15,
   "id": "60661a81",
   "metadata": {},
   "outputs": [
    {
     "data": {
      "text/html": [
       "<div>\n",
       "<style scoped>\n",
       "    .dataframe tbody tr th:only-of-type {\n",
       "        vertical-align: middle;\n",
       "    }\n",
       "\n",
       "    .dataframe tbody tr th {\n",
       "        vertical-align: top;\n",
       "    }\n",
       "\n",
       "    .dataframe thead th {\n",
       "        text-align: right;\n",
       "    }\n",
       "</style>\n",
       "<table border=\"1\" class=\"dataframe\">\n",
       "  <thead>\n",
       "    <tr style=\"text-align: right;\">\n",
       "      <th></th>\n",
       "      <th>count</th>\n",
       "      <th>mean</th>\n",
       "      <th>std</th>\n",
       "      <th>min</th>\n",
       "      <th>25%</th>\n",
       "      <th>50%</th>\n",
       "      <th>75%</th>\n",
       "      <th>max</th>\n",
       "    </tr>\n",
       "    <tr>\n",
       "      <th>ASD</th>\n",
       "      <th></th>\n",
       "      <th></th>\n",
       "      <th></th>\n",
       "      <th></th>\n",
       "      <th></th>\n",
       "      <th></th>\n",
       "      <th></th>\n",
       "      <th></th>\n",
       "    </tr>\n",
       "  </thead>\n",
       "  <tbody>\n",
       "    <tr>\n",
       "      <th>NO</th>\n",
       "      <td>515.0</td>\n",
       "      <td>3.631068</td>\n",
       "      <td>1.540569</td>\n",
       "      <td>0.0</td>\n",
       "      <td>3.0</td>\n",
       "      <td>4.0</td>\n",
       "      <td>5.0</td>\n",
       "      <td>6.0</td>\n",
       "    </tr>\n",
       "    <tr>\n",
       "      <th>YES</th>\n",
       "      <td>189.0</td>\n",
       "      <td>8.264550</td>\n",
       "      <td>1.058834</td>\n",
       "      <td>7.0</td>\n",
       "      <td>7.0</td>\n",
       "      <td>8.0</td>\n",
       "      <td>9.0</td>\n",
       "      <td>10.0</td>\n",
       "    </tr>\n",
       "  </tbody>\n",
       "</table>\n",
       "</div>"
      ],
      "text/plain": [
       "     count      mean       std  min  25%  50%  75%   max\n",
       "ASD                                                     \n",
       "NO   515.0  3.631068  1.540569  0.0  3.0  4.0  5.0   6.0\n",
       "YES  189.0  8.264550  1.058834  7.0  7.0  8.0  9.0  10.0"
      ]
     },
     "execution_count": 15,
     "metadata": {},
     "output_type": "execute_result"
    }
   ],
   "source": [
    "autism.groupby('ASD')['Full_score'].describe()"
   ]
  },
  {
   "cell_type": "markdown",
   "id": "cd1218d6",
   "metadata": {},
   "source": [
    "The average score for people without autism is lower than people with it which is a good sign. The max of NO is even smaller than the min of YES."
   ]
  },
  {
   "cell_type": "code",
   "execution_count": 16,
   "id": "d05901bf",
   "metadata": {},
   "outputs": [
    {
     "data": {
      "text/html": [
       "<div>\n",
       "<style scoped>\n",
       "    .dataframe tbody tr th:only-of-type {\n",
       "        vertical-align: middle;\n",
       "    }\n",
       "\n",
       "    .dataframe tbody tr th {\n",
       "        vertical-align: top;\n",
       "    }\n",
       "\n",
       "    .dataframe thead th {\n",
       "        text-align: right;\n",
       "    }\n",
       "</style>\n",
       "<table border=\"1\" class=\"dataframe\">\n",
       "  <thead>\n",
       "    <tr style=\"text-align: right;\">\n",
       "      <th></th>\n",
       "      <th>count</th>\n",
       "      <th>unique</th>\n",
       "      <th>top</th>\n",
       "      <th>freq</th>\n",
       "    </tr>\n",
       "    <tr>\n",
       "      <th>ASD</th>\n",
       "      <th></th>\n",
       "      <th></th>\n",
       "      <th></th>\n",
       "      <th></th>\n",
       "    </tr>\n",
       "  </thead>\n",
       "  <tbody>\n",
       "    <tr>\n",
       "      <th>NO</th>\n",
       "      <td>515</td>\n",
       "      <td>44</td>\n",
       "      <td>21</td>\n",
       "      <td>39</td>\n",
       "    </tr>\n",
       "    <tr>\n",
       "      <th>YES</th>\n",
       "      <td>189</td>\n",
       "      <td>39</td>\n",
       "      <td>30</td>\n",
       "      <td>13</td>\n",
       "    </tr>\n",
       "  </tbody>\n",
       "</table>\n",
       "</div>"
      ],
      "text/plain": [
       "    count unique top freq\n",
       "ASD                      \n",
       "NO    515     44  21   39\n",
       "YES   189     39  30   13"
      ]
     },
     "execution_count": 16,
     "metadata": {},
     "output_type": "execute_result"
    }
   ],
   "source": [
    "autism.groupby('ASD')['age'].describe()"
   ]
  },
  {
   "cell_type": "code",
   "execution_count": 17,
   "id": "8f55e36c",
   "metadata": {},
   "outputs": [
    {
     "data": {
      "text/plain": [
       "21     49\n",
       "20     46\n",
       "23     37\n",
       "22     37\n",
       "19     35\n",
       "24     34\n",
       "27     31\n",
       "18     31\n",
       "30     30\n",
       "26     28\n",
       "25     27\n",
       "29     27\n",
       "28     24\n",
       "31     21\n",
       "17     18\n",
       "32     18\n",
       "35     17\n",
       "37     17\n",
       "33     16\n",
       "40     16\n",
       "42     15\n",
       "36     13\n",
       "38     12\n",
       "34     12\n",
       "43     11\n",
       "44     10\n",
       "47      8\n",
       "39      7\n",
       "55      6\n",
       "53      6\n",
       "46      6\n",
       "50      5\n",
       "52      5\n",
       "48      4\n",
       "45      4\n",
       "49      3\n",
       "41      3\n",
       "54      2\n",
       "58      2\n",
       "?       2\n",
       "56      2\n",
       "61      2\n",
       "59      1\n",
       "64      1\n",
       "60      1\n",
       "383     1\n",
       "51      1\n",
       "Name: age, dtype: int64"
      ]
     },
     "execution_count": 17,
     "metadata": {},
     "output_type": "execute_result"
    }
   ],
   "source": [
    "autism['age'].value_counts()"
   ]
  },
  {
   "cell_type": "markdown",
   "id": "edf57b85",
   "metadata": {},
   "source": [
    "There are two people without an age and one person with an age of 383."
   ]
  },
  {
   "cell_type": "code",
   "execution_count": 18,
   "id": "44eaa763",
   "metadata": {},
   "outputs": [
    {
     "data": {
      "text/html": [
       "<div>\n",
       "<style scoped>\n",
       "    .dataframe tbody tr th:only-of-type {\n",
       "        vertical-align: middle;\n",
       "    }\n",
       "\n",
       "    .dataframe tbody tr th {\n",
       "        vertical-align: top;\n",
       "    }\n",
       "\n",
       "    .dataframe thead th {\n",
       "        text-align: right;\n",
       "    }\n",
       "</style>\n",
       "<table border=\"1\" class=\"dataframe\">\n",
       "  <thead>\n",
       "    <tr style=\"text-align: right;\">\n",
       "      <th></th>\n",
       "      <th>A1</th>\n",
       "      <th>A2</th>\n",
       "      <th>A3</th>\n",
       "      <th>A4</th>\n",
       "      <th>A5</th>\n",
       "      <th>A6</th>\n",
       "      <th>A7</th>\n",
       "      <th>A8</th>\n",
       "      <th>A9</th>\n",
       "      <th>A10</th>\n",
       "      <th>age</th>\n",
       "      <th>gender</th>\n",
       "      <th>ethnicity</th>\n",
       "      <th>Jundice_at_birth</th>\n",
       "      <th>Autistic_relative</th>\n",
       "      <th>contry_of_res</th>\n",
       "      <th>used_app_before</th>\n",
       "      <th>Full_score</th>\n",
       "      <th>relation</th>\n",
       "      <th>ASD</th>\n",
       "    </tr>\n",
       "  </thead>\n",
       "  <tbody>\n",
       "    <tr>\n",
       "      <th>62</th>\n",
       "      <td>0</td>\n",
       "      <td>0</td>\n",
       "      <td>0</td>\n",
       "      <td>0</td>\n",
       "      <td>0</td>\n",
       "      <td>0</td>\n",
       "      <td>0</td>\n",
       "      <td>0</td>\n",
       "      <td>0</td>\n",
       "      <td>0</td>\n",
       "      <td>?</td>\n",
       "      <td>m</td>\n",
       "      <td>?</td>\n",
       "      <td>no</td>\n",
       "      <td>no</td>\n",
       "      <td>Saudi Arabia'</td>\n",
       "      <td>no</td>\n",
       "      <td>0</td>\n",
       "      <td>?</td>\n",
       "      <td>NO</td>\n",
       "    </tr>\n",
       "    <tr>\n",
       "      <th>91</th>\n",
       "      <td>0</td>\n",
       "      <td>1</td>\n",
       "      <td>0</td>\n",
       "      <td>0</td>\n",
       "      <td>1</td>\n",
       "      <td>0</td>\n",
       "      <td>1</td>\n",
       "      <td>0</td>\n",
       "      <td>0</td>\n",
       "      <td>1</td>\n",
       "      <td>?</td>\n",
       "      <td>f</td>\n",
       "      <td>?</td>\n",
       "      <td>no</td>\n",
       "      <td>no</td>\n",
       "      <td>Jordan</td>\n",
       "      <td>no</td>\n",
       "      <td>4</td>\n",
       "      <td>?</td>\n",
       "      <td>NO</td>\n",
       "    </tr>\n",
       "  </tbody>\n",
       "</table>\n",
       "</div>"
      ],
      "text/plain": [
       "    A1  A2  A3  A4  A5  A6  A7  A8  A9  A10 age gender ethnicity  \\\n",
       "62   0   0   0   0   0   0   0   0   0    0   ?      m         ?   \n",
       "91   0   1   0   0   1   0   1   0   0    1   ?      f         ?   \n",
       "\n",
       "   Jundice_at_birth Autistic_relative  contry_of_res used_app_before  \\\n",
       "62               no                no  Saudi Arabia'              no   \n",
       "91               no                no         Jordan              no   \n",
       "\n",
       "    Full_score relation ASD  \n",
       "62           0        ?  NO  \n",
       "91           4        ?  NO  "
      ]
     },
     "execution_count": 18,
     "metadata": {},
     "output_type": "execute_result"
    }
   ],
   "source": [
    "autism[autism['age'] == '?']"
   ]
  },
  {
   "cell_type": "code",
   "execution_count": 19,
   "id": "0ecc1e63",
   "metadata": {},
   "outputs": [],
   "source": [
    "autism = autism.drop(autism[autism['age'] == '?'].index)"
   ]
  },
  {
   "cell_type": "markdown",
   "id": "30d32a2b",
   "metadata": {},
   "source": [
    "Since the age and ethinicity are missing and they have low scores and don't have autism we will just drop them in this case. Now we can convert age into an int type"
   ]
  },
  {
   "cell_type": "code",
   "execution_count": 20,
   "id": "6d3c4960",
   "metadata": {},
   "outputs": [
    {
     "data": {
      "text/plain": [
       "A1                    int64\n",
       "A2                    int64\n",
       "A3                    int64\n",
       "A4                    int64\n",
       "A5                    int64\n",
       "A6                    int64\n",
       "A7                    int64\n",
       "A8                    int64\n",
       "A9                    int64\n",
       "A10                   int64\n",
       "age                  object\n",
       "gender               object\n",
       "ethnicity            object\n",
       "Jundice_at_birth     object\n",
       "Autistic_relative    object\n",
       "contry_of_res        object\n",
       "used_app_before      object\n",
       "Full_score            int64\n",
       "relation             object\n",
       "ASD                  object\n",
       "dtype: object"
      ]
     },
     "execution_count": 20,
     "metadata": {},
     "output_type": "execute_result"
    }
   ],
   "source": [
    "autism.dtypes"
   ]
  },
  {
   "cell_type": "code",
   "execution_count": 21,
   "id": "b65211c9",
   "metadata": {},
   "outputs": [],
   "source": [
    "autism['age'] = autism['age'].astype(int)"
   ]
  },
  {
   "cell_type": "code",
   "execution_count": 22,
   "id": "57a6b879",
   "metadata": {},
   "outputs": [
    {
     "data": {
      "text/plain": [
       "A1                    int64\n",
       "A2                    int64\n",
       "A3                    int64\n",
       "A4                    int64\n",
       "A5                    int64\n",
       "A6                    int64\n",
       "A7                    int64\n",
       "A8                    int64\n",
       "A9                    int64\n",
       "A10                   int64\n",
       "age                   int32\n",
       "gender               object\n",
       "ethnicity            object\n",
       "Jundice_at_birth     object\n",
       "Autistic_relative    object\n",
       "contry_of_res        object\n",
       "used_app_before      object\n",
       "Full_score            int64\n",
       "relation             object\n",
       "ASD                  object\n",
       "dtype: object"
      ]
     },
     "execution_count": 22,
     "metadata": {},
     "output_type": "execute_result"
    }
   ],
   "source": [
    "autism.dtypes"
   ]
  },
  {
   "cell_type": "markdown",
   "id": "41a37619",
   "metadata": {},
   "source": [
    "Now we can filter out the 383 much easier and set it as the mean age."
   ]
  },
  {
   "cell_type": "code",
   "execution_count": 23,
   "id": "e9664054",
   "metadata": {},
   "outputs": [
    {
     "data": {
      "text/plain": [
       "29.698005698005698"
      ]
     },
     "execution_count": 23,
     "metadata": {},
     "output_type": "execute_result"
    }
   ],
   "source": [
    "autism['age'].mean()"
   ]
  },
  {
   "cell_type": "code",
   "execution_count": 24,
   "id": "4ea1a312",
   "metadata": {},
   "outputs": [],
   "source": [
    "autism[autism['age'] > 300]\n",
    "autism.loc[autism['age'] == 383] = 29"
   ]
  },
  {
   "cell_type": "code",
   "execution_count": 25,
   "id": "9d8dc207",
   "metadata": {},
   "outputs": [
    {
     "data": {
      "text/plain": [
       "29"
      ]
     },
     "execution_count": 25,
     "metadata": {},
     "output_type": "execute_result"
    }
   ],
   "source": [
    "autism.loc[52]['age']"
   ]
  },
  {
   "cell_type": "code",
   "execution_count": 26,
   "id": "e03c07d1",
   "metadata": {},
   "outputs": [
    {
     "data": {
      "text/html": [
       "<div>\n",
       "<style scoped>\n",
       "    .dataframe tbody tr th:only-of-type {\n",
       "        vertical-align: middle;\n",
       "    }\n",
       "\n",
       "    .dataframe tbody tr th {\n",
       "        vertical-align: top;\n",
       "    }\n",
       "\n",
       "    .dataframe thead th {\n",
       "        text-align: right;\n",
       "    }\n",
       "</style>\n",
       "<table border=\"1\" class=\"dataframe\">\n",
       "  <thead>\n",
       "    <tr style=\"text-align: right;\">\n",
       "      <th></th>\n",
       "      <th>A1</th>\n",
       "      <th>A2</th>\n",
       "      <th>A3</th>\n",
       "      <th>A4</th>\n",
       "      <th>A5</th>\n",
       "      <th>A6</th>\n",
       "      <th>A7</th>\n",
       "      <th>A8</th>\n",
       "      <th>A9</th>\n",
       "      <th>A10</th>\n",
       "      <th>age</th>\n",
       "      <th>gender</th>\n",
       "      <th>ethnicity</th>\n",
       "      <th>Jundice_at_birth</th>\n",
       "      <th>Autistic_relative</th>\n",
       "      <th>contry_of_res</th>\n",
       "      <th>used_app_before</th>\n",
       "      <th>Full_score</th>\n",
       "      <th>relation</th>\n",
       "      <th>ASD</th>\n",
       "    </tr>\n",
       "  </thead>\n",
       "  <tbody>\n",
       "    <tr>\n",
       "      <th>0</th>\n",
       "      <td>1</td>\n",
       "      <td>1</td>\n",
       "      <td>1</td>\n",
       "      <td>1</td>\n",
       "      <td>0</td>\n",
       "      <td>0</td>\n",
       "      <td>1</td>\n",
       "      <td>1</td>\n",
       "      <td>0</td>\n",
       "      <td>0</td>\n",
       "      <td>26</td>\n",
       "      <td>f</td>\n",
       "      <td>White-European</td>\n",
       "      <td>no</td>\n",
       "      <td>no</td>\n",
       "      <td>United States'</td>\n",
       "      <td>no</td>\n",
       "      <td>6</td>\n",
       "      <td>Self</td>\n",
       "      <td>NO</td>\n",
       "    </tr>\n",
       "    <tr>\n",
       "      <th>1</th>\n",
       "      <td>1</td>\n",
       "      <td>1</td>\n",
       "      <td>0</td>\n",
       "      <td>1</td>\n",
       "      <td>0</td>\n",
       "      <td>0</td>\n",
       "      <td>0</td>\n",
       "      <td>1</td>\n",
       "      <td>0</td>\n",
       "      <td>1</td>\n",
       "      <td>24</td>\n",
       "      <td>m</td>\n",
       "      <td>Latino</td>\n",
       "      <td>no</td>\n",
       "      <td>yes</td>\n",
       "      <td>Brazil</td>\n",
       "      <td>no</td>\n",
       "      <td>5</td>\n",
       "      <td>Self</td>\n",
       "      <td>NO</td>\n",
       "    </tr>\n",
       "    <tr>\n",
       "      <th>2</th>\n",
       "      <td>1</td>\n",
       "      <td>1</td>\n",
       "      <td>0</td>\n",
       "      <td>1</td>\n",
       "      <td>1</td>\n",
       "      <td>0</td>\n",
       "      <td>1</td>\n",
       "      <td>1</td>\n",
       "      <td>1</td>\n",
       "      <td>1</td>\n",
       "      <td>27</td>\n",
       "      <td>m</td>\n",
       "      <td>Latino</td>\n",
       "      <td>yes</td>\n",
       "      <td>yes</td>\n",
       "      <td>Spain</td>\n",
       "      <td>no</td>\n",
       "      <td>8</td>\n",
       "      <td>Parent</td>\n",
       "      <td>YES</td>\n",
       "    </tr>\n",
       "    <tr>\n",
       "      <th>3</th>\n",
       "      <td>1</td>\n",
       "      <td>1</td>\n",
       "      <td>0</td>\n",
       "      <td>1</td>\n",
       "      <td>0</td>\n",
       "      <td>0</td>\n",
       "      <td>1</td>\n",
       "      <td>1</td>\n",
       "      <td>0</td>\n",
       "      <td>1</td>\n",
       "      <td>35</td>\n",
       "      <td>f</td>\n",
       "      <td>White-European</td>\n",
       "      <td>no</td>\n",
       "      <td>yes</td>\n",
       "      <td>United States'</td>\n",
       "      <td>no</td>\n",
       "      <td>6</td>\n",
       "      <td>Self</td>\n",
       "      <td>NO</td>\n",
       "    </tr>\n",
       "    <tr>\n",
       "      <th>4</th>\n",
       "      <td>1</td>\n",
       "      <td>0</td>\n",
       "      <td>0</td>\n",
       "      <td>0</td>\n",
       "      <td>0</td>\n",
       "      <td>0</td>\n",
       "      <td>0</td>\n",
       "      <td>1</td>\n",
       "      <td>0</td>\n",
       "      <td>0</td>\n",
       "      <td>40</td>\n",
       "      <td>f</td>\n",
       "      <td>?</td>\n",
       "      <td>no</td>\n",
       "      <td>no</td>\n",
       "      <td>Egypt</td>\n",
       "      <td>no</td>\n",
       "      <td>2</td>\n",
       "      <td>?</td>\n",
       "      <td>NO</td>\n",
       "    </tr>\n",
       "  </tbody>\n",
       "</table>\n",
       "</div>"
      ],
      "text/plain": [
       "   A1  A2  A3  A4  A5  A6  A7  A8  A9  A10  age gender       ethnicity  \\\n",
       "0   1   1   1   1   0   0   1   1   0    0   26      f  White-European   \n",
       "1   1   1   0   1   0   0   0   1   0    1   24      m          Latino   \n",
       "2   1   1   0   1   1   0   1   1   1    1   27      m          Latino   \n",
       "3   1   1   0   1   0   0   1   1   0    1   35      f  White-European   \n",
       "4   1   0   0   0   0   0   0   1   0    0   40      f               ?   \n",
       "\n",
       "  Jundice_at_birth Autistic_relative   contry_of_res used_app_before  \\\n",
       "0               no                no  United States'              no   \n",
       "1               no               yes          Brazil              no   \n",
       "2              yes               yes           Spain              no   \n",
       "3               no               yes  United States'              no   \n",
       "4               no                no           Egypt              no   \n",
       "\n",
       "   Full_score relation  ASD  \n",
       "0           6     Self   NO  \n",
       "1           5     Self   NO  \n",
       "2           8   Parent  YES  \n",
       "3           6     Self   NO  \n",
       "4           2        ?   NO  "
      ]
     },
     "execution_count": 26,
     "metadata": {},
     "output_type": "execute_result"
    }
   ],
   "source": [
    "autism.head()"
   ]
  },
  {
   "cell_type": "code",
   "execution_count": 27,
   "id": "d96ebbb9",
   "metadata": {},
   "outputs": [],
   "source": [
    "autism.to_csv('cleanedAutismData.csv')"
   ]
  }
 ],
 "metadata": {
  "kernelspec": {
   "display_name": "Python 3 (ipykernel)",
   "language": "python",
   "name": "python3"
  },
  "language_info": {
   "codemirror_mode": {
    "name": "ipython",
    "version": 3
   },
   "file_extension": ".py",
   "mimetype": "text/x-python",
   "name": "python",
   "nbconvert_exporter": "python",
   "pygments_lexer": "ipython3",
   "version": "3.9.13"
  }
 },
 "nbformat": 4,
 "nbformat_minor": 5
}
